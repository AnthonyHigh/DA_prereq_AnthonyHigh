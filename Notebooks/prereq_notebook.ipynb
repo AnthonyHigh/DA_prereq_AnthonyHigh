{
 "cells": [
  {
   "cell_type": "markdown",
   "id": "13547206",
   "metadata": {},
   "source": [
    "Hello, I'm Anthony High. I'm super excited to learn Python and veary interested in the IT and Cybersecurity world. Currently I have a helpdesk job, but I plan to further my career!"
   ]
  },
  {
   "cell_type": "code",
   "execution_count": null,
   "id": "000d7255",
   "metadata": {},
   "outputs": [
    {
     "name": "stdout",
     "output_type": "stream",
     "text": [
      "I'm ready to start to learn Python!\n"
     ]
    }
   ],
   "source": [
    "print(\"I'm ready to start learning Python!\")\n"
   ]
  },
  {
   "cell_type": "markdown",
   "id": "e9768d7f",
   "metadata": {},
   "source": []
  },
  {
   "cell_type": "markdown",
   "id": "2cc57ef4",
   "metadata": {},
   "source": []
  }
 ],
 "metadata": {
  "kernelspec": {
   "display_name": "Python 3",
   "language": "python",
   "name": "python3"
  },
  "language_info": {
   "codemirror_mode": {
    "name": "ipython",
    "version": 3
   },
   "file_extension": ".py",
   "mimetype": "text/x-python",
   "name": "python",
   "nbconvert_exporter": "python",
   "pygments_lexer": "ipython3",
   "version": "3.13.5"
  }
 },
 "nbformat": 4,
 "nbformat_minor": 5
}
