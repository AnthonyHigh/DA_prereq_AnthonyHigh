{
 "cells": [
  {
   "cell_type": "code",
   "execution_count": 4,
   "id": "182e4ef7",
   "metadata": {},
   "outputs": [
    {
     "name": "stdout",
     "output_type": "stream",
     "text": [
      "you chose: paper\n",
      "Computer chose: rock\n",
      "You win!\n"
     ]
    }
   ],
   "source": [
    "choices = ['rock', 'paper', 'scissors']\n",
    "\n",
    "user_choice = input(\"Choose rock, paper, or scissors\")\n",
    "\n",
    "import random\n",
    "\n",
    "\n",
    "if user_choice not in choices:\n",
    "    print(\"invailid choice. Please enter 'rock', 'paper', or 'scissors'\")\n",
    "\n",
    "else: \n",
    "    computer_choice = random.choice(choices)\n",
    "\n",
    "    print(f\"you chose: {user_choice}\")  \n",
    "    print(f\"Computer chose: {computer_choice}\")\n",
    "\n",
    "    if user_choice == computer_choice:\n",
    "        print(\"It's a tie!\")\n",
    "    elif (user_choice == 'rock' and computer_choice == 'scissors') or \\\n",
    "         (user_choice == 'scissors' and computer_choice == 'paper') or \\\n",
    "         (user_choice == 'paper' and computer_choice == 'rock'):\n",
    "        print(\"You win!\")\n",
    "    else:\n",
    "        print(\"Computer wins!\")"
   ]
  }
 ],
 "metadata": {
  "kernelspec": {
   "display_name": "Python 3",
   "language": "python",
   "name": "python3"
  },
  "language_info": {
   "codemirror_mode": {
    "name": "ipython",
    "version": 3
   },
   "file_extension": ".py",
   "mimetype": "text/x-python",
   "name": "python",
   "nbconvert_exporter": "python",
   "pygments_lexer": "ipython3",
   "version": "3.13.5"
  }
 },
 "nbformat": 4,
 "nbformat_minor": 5
}
